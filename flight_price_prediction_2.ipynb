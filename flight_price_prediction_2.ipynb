{
  "nbformat": 4,
  "nbformat_minor": 0,
  "metadata": {
    "colab": {
      "provenance": []
    },
    "kernelspec": {
      "name": "python3",
      "display_name": "Python 3"
    },
    "language_info": {
      "name": "python"
    }
  },
  "cells": [
    {
      "cell_type": "code",
      "execution_count": null,
      "metadata": {
        "colab": {
          "base_uri": "https://localhost:8080/"
        },
        "id": "PUORtMnSpSDz",
        "outputId": "56380973-0d0b-40cf-a71c-5feb327fe90e"
      },
      "outputs": [
        {
          "output_type": "stream",
          "name": "stdout",
          "text": [
            "Requirement already satisfied: pandas in /usr/local/lib/python3.11/dist-packages (2.2.2)\n",
            "Requirement already satisfied: scikit-learn in /usr/local/lib/python3.11/dist-packages (1.6.1)\n",
            "Requirement already satisfied: numpy>=1.23.2 in /usr/local/lib/python3.11/dist-packages (from pandas) (2.0.2)\n",
            "Requirement already satisfied: python-dateutil>=2.8.2 in /usr/local/lib/python3.11/dist-packages (from pandas) (2.8.2)\n",
            "Requirement already satisfied: pytz>=2020.1 in /usr/local/lib/python3.11/dist-packages (from pandas) (2025.1)\n",
            "Requirement already satisfied: tzdata>=2022.7 in /usr/local/lib/python3.11/dist-packages (from pandas) (2025.1)\n",
            "Requirement already satisfied: scipy>=1.6.0 in /usr/local/lib/python3.11/dist-packages (from scikit-learn) (1.14.1)\n",
            "Requirement already satisfied: joblib>=1.2.0 in /usr/local/lib/python3.11/dist-packages (from scikit-learn) (1.4.2)\n",
            "Requirement already satisfied: threadpoolctl>=3.1.0 in /usr/local/lib/python3.11/dist-packages (from scikit-learn) (3.6.0)\n",
            "Requirement already satisfied: six>=1.5 in /usr/local/lib/python3.11/dist-packages (from python-dateutil>=2.8.2->pandas) (1.17.0)\n"
          ]
        }
      ],
      "source": [
        "!pip install pandas scikit-learn\n"
      ]
    },
    {
      "cell_type": "code",
      "source": [
        "from google.colab import drive\n",
        "\n",
        "# Mount Google Drive\n",
        "drive.mount('/content/drive')\n",
        "\n",
        "# Correct path to your file within Google Drive\n",
        "data_path = '/content/preprocessed_dataset.csv' # Replace 'MyDrive' with the folder name where your CSV is located if necessary\n",
        "\n",
        "import pandas as pd\n",
        "\n",
        "# Load the data\n",
        "data = pd.read_csv(data_path)\n",
        "\n",
        "# Display the first few rows to verify it loaded correctly\n",
        "print(data.head())"
      ],
      "metadata": {
        "colab": {
          "base_uri": "https://localhost:8080/"
        },
        "id": "ySLFFnQ_rmGt",
        "outputId": "46524c88-5cc4-4752-faa9-e60525e37712"
      },
      "execution_count": null,
      "outputs": [
        {
          "output_type": "stream",
          "name": "stdout",
          "text": [
            "Drive already mounted at /content/drive; to attempt to forcibly remount, call drive.mount(\"/content/drive\", force_remount=True).\n",
            "  departure_time days_left source_city ch_code   flight    price    class  \\\n",
            "0          18:00   Unknown       Delhi      AI  Unknown  25612.0  Unknown   \n",
            "1          19:00   Unknown       Delhi      AI  Unknown  25612.0  Unknown   \n",
            "2          20:00   Unknown       Delhi      AI  Unknown  42220.0  Unknown   \n",
            "3          21:25   Unknown       Delhi      AI  Unknown  44450.0  Unknown   \n",
            "4          17:15   Unknown       Delhi      AI  Unknown  46690.0  Unknown   \n",
            "\n",
            "   num_code    airline duration        date     stops destination_city  \\\n",
            "0     868.0  Air India  02h 00m  11-02-2022  non-stop           Mumbai   \n",
            "1     624.0  Air India  02h 15m  11-02-2022  non-stop           Mumbai   \n",
            "2     531.0  Air India  24h 45m  11-02-2022    1-stop           Mumbai   \n",
            "3     839.0  Air India  26h 30m  11-02-2022    1-stop           Mumbai   \n",
            "4     544.0  Air India  06h 40m  11-02-2022    1-stop           Mumbai   \n",
            "\n",
            "  arrival_time  \n",
            "0        20:00  \n",
            "1        21:15  \n",
            "2        20:45  \n",
            "3        23:55  \n",
            "4        23:55  \n"
          ]
        }
      ]
    },
    {
      "cell_type": "code",
      "source": [
        "import pandas as pd\n",
        "\n",
        "# Load your data\n",
        "data = pd.read_csv(\"/content/preprocessed_dataset.csv\") # or data_path if you used Google Drive\n",
        "\n",
        "# Display the first few rows of the data to make sure it loaded correctly\n",
        "print(data.head())"
      ],
      "metadata": {
        "colab": {
          "base_uri": "https://localhost:8080/"
        },
        "id": "6aB4ueTJtJZG",
        "outputId": "78d5098b-017d-476e-ca89-1519b0a10168"
      },
      "execution_count": null,
      "outputs": [
        {
          "output_type": "stream",
          "name": "stdout",
          "text": [
            "  departure_time days_left source_city ch_code   flight    price    class  \\\n",
            "0          18:00   Unknown       Delhi      AI  Unknown  25612.0  Unknown   \n",
            "1          19:00   Unknown       Delhi      AI  Unknown  25612.0  Unknown   \n",
            "2          20:00   Unknown       Delhi      AI  Unknown  42220.0  Unknown   \n",
            "3          21:25   Unknown       Delhi      AI  Unknown  44450.0  Unknown   \n",
            "4          17:15   Unknown       Delhi      AI  Unknown  46690.0  Unknown   \n",
            "\n",
            "   num_code    airline duration        date     stops destination_city  \\\n",
            "0     868.0  Air India  02h 00m  11-02-2022  non-stop           Mumbai   \n",
            "1     624.0  Air India  02h 15m  11-02-2022  non-stop           Mumbai   \n",
            "2     531.0  Air India  24h 45m  11-02-2022    1-stop           Mumbai   \n",
            "3     839.0  Air India  26h 30m  11-02-2022    1-stop           Mumbai   \n",
            "4     544.0  Air India  06h 40m  11-02-2022    1-stop           Mumbai   \n",
            "\n",
            "  arrival_time  \n",
            "0        20:00  \n",
            "1        21:15  \n",
            "2        20:45  \n",
            "3        23:55  \n",
            "4        23:55  \n"
          ]
        }
      ]
    },
    {
      "cell_type": "code",
      "source": [
        "# Get some basic information about the data\n",
        "print(data.info())\n",
        "\n",
        "# Get summary statistics for numerical columns\n",
        "print(data.describe())\n",
        "\n",
        "# Check for missing values\n",
        "print(data.isnull().sum())"
      ],
      "metadata": {
        "colab": {
          "base_uri": "https://localhost:8080/"
        },
        "id": "vd5w4rYjtfSJ",
        "outputId": "e2e80e87-77e2-4e7e-93ad-2a775465bbbb"
      },
      "execution_count": null,
      "outputs": [
        {
          "output_type": "stream",
          "name": "stdout",
          "text": [
            "<class 'pandas.core.frame.DataFrame'>\n",
            "RangeIndex: 123447 entries, 0 to 123446\n",
            "Data columns (total 14 columns):\n",
            " #   Column            Non-Null Count   Dtype  \n",
            "---  ------            --------------   -----  \n",
            " 0   departure_time    123447 non-null  object \n",
            " 1   days_left         123447 non-null  object \n",
            " 2   source_city       123447 non-null  object \n",
            " 3   ch_code           123447 non-null  object \n",
            " 4   flight            123447 non-null  object \n",
            " 5   price             123446 non-null  float64\n",
            " 6   class             123446 non-null  object \n",
            " 7   num_code          93487 non-null   float64\n",
            " 8   airline           123446 non-null  object \n",
            " 9   duration          123446 non-null  object \n",
            " 10  date              123446 non-null  object \n",
            " 11  stops             123446 non-null  object \n",
            " 12  destination_city  123446 non-null  object \n",
            " 13  arrival_time      123446 non-null  object \n",
            "dtypes: float64(2), object(12)\n",
            "memory usage: 13.2+ MB\n",
            "None\n",
            "               price      num_code\n",
            "count  123446.000000  93487.000000\n",
            "mean    41379.386145    780.056147\n",
            "std     22793.443064    147.616038\n",
            "min      2281.000000    401.000000\n",
            "25%     20760.000000    706.000000\n",
            "50%     49613.000000    820.000000\n",
            "75%     57565.000000    874.000000\n",
            "max    123071.000000    996.000000\n",
            "departure_time          0\n",
            "days_left               0\n",
            "source_city             0\n",
            "ch_code                 0\n",
            "flight                  0\n",
            "price                   1\n",
            "class                   1\n",
            "num_code            29960\n",
            "airline                 1\n",
            "duration                1\n",
            "date                    1\n",
            "stops                   1\n",
            "destination_city        1\n",
            "arrival_time            1\n",
            "dtype: int64\n"
          ]
        }
      ]
    },
    {
      "cell_type": "code",
      "source": [
        "data = data.dropna()"
      ],
      "metadata": {
        "id": "XNrK9XXItov_"
      },
      "execution_count": null,
      "outputs": []
    },
    {
      "cell_type": "code",
      "source": [
        "import pandas as pd\n",
        "from google.colab import drive\n",
        "\n",
        "drive.mount('/content/drive')\n",
        "data_path = '/content/preprocessed_dataset.csv'  # Or whatever your correct path is\n",
        "\n",
        "data = pd.read_csv(data_path)\n",
        "\n",
        "print(\"Column Names:\", data.columns)\n",
        "print(\"First 5 Rows:\\n\", data.head())\n",
        "\n",
        "try:\n",
        "    data['Date'] = pd.to_datetime(data['Date'])\n",
        "    print(\"Date conversion successful!\")  # If it gets this far\n",
        "except KeyError as e:\n",
        "    print(f\"KeyError: {e}\")\n",
        "except Exception as e:\n",
        "    print(f\"Other error: {e}\")\n",
        "\n",
        "print(\"Code finished.\")"
      ],
      "metadata": {
        "colab": {
          "base_uri": "https://localhost:8080/"
        },
        "id": "fW8KglNItwTg",
        "outputId": "0f6183e8-4e10-4510-ead2-7ea88cf9f93c"
      },
      "execution_count": null,
      "outputs": [
        {
          "output_type": "stream",
          "name": "stdout",
          "text": [
            "Drive already mounted at /content/drive; to attempt to forcibly remount, call drive.mount(\"/content/drive\", force_remount=True).\n",
            "Column Names: Index(['departure_time', 'days_left', 'source_city', 'ch_code', 'flight',\n",
            "       'price', 'class', 'num_code', 'airline', 'duration', 'date', 'stops',\n",
            "       'destination_city', 'arrival_time'],\n",
            "      dtype='object')\n",
            "First 5 Rows:\n",
            "   departure_time days_left source_city ch_code   flight    price    class  \\\n",
            "0          18:00   Unknown       Delhi      AI  Unknown  25612.0  Unknown   \n",
            "1          19:00   Unknown       Delhi      AI  Unknown  25612.0  Unknown   \n",
            "2          20:00   Unknown       Delhi      AI  Unknown  42220.0  Unknown   \n",
            "3          21:25   Unknown       Delhi      AI  Unknown  44450.0  Unknown   \n",
            "4          17:15   Unknown       Delhi      AI  Unknown  46690.0  Unknown   \n",
            "\n",
            "   num_code    airline duration        date     stops destination_city  \\\n",
            "0     868.0  Air India  02h 00m  11-02-2022  non-stop           Mumbai   \n",
            "1     624.0  Air India  02h 15m  11-02-2022  non-stop           Mumbai   \n",
            "2     531.0  Air India  24h 45m  11-02-2022    1-stop           Mumbai   \n",
            "3     839.0  Air India  26h 30m  11-02-2022    1-stop           Mumbai   \n",
            "4     544.0  Air India  06h 40m  11-02-2022    1-stop           Mumbai   \n",
            "\n",
            "  arrival_time  \n",
            "0        20:00  \n",
            "1        21:15  \n",
            "2        20:45  \n",
            "3        23:55  \n",
            "4        23:55  \n",
            "KeyError: 'Date'\n",
            "Code finished.\n"
          ]
        },
        {
          "output_type": "stream",
          "name": "stderr",
          "text": [
            "<ipython-input-18-960c86823926>:7: DtypeWarning: Columns (1,9) have mixed types. Specify dtype option on import or set low_memory=False.\n",
            "  data = pd.read_csv(data_path)\n"
          ]
        }
      ]
    },
    {
      "cell_type": "code",
      "source": [
        "import pandas as pd\n",
        "from google.colab import drive\n",
        "from sklearn.model_selection import train_test_split\n",
        "from sklearn.ensemble import RandomForestRegressor\n",
        "from sklearn.metrics import mean_squared_error, r2_score\n",
        "from sklearn.preprocessing import StandardScaler\n",
        "import numpy as np\n",
        "\n",
        "drive.mount('/content/drive')\n",
        "data_path = '/content/preprocessed_dataset.csv'\n",
        "\n",
        "# Load Data\n",
        "data = pd.read_csv(data_path, low_memory=False)\n",
        "\n",
        "# Remove rows where 'days_left' is \"Unknown\"\n",
        "data = data[data['days_left'] != \"Unknown\"]\n",
        "\n",
        "# Convert 'days_left' to integer\n",
        "data['days_left'] = pd.to_numeric(data['days_left'], errors='coerce').astype('Int64')\n",
        "\n",
        "# Convert 'date' column\n",
        "data['date'] = pd.to_datetime(data['date'], format=\"%d-%m-%Y\", errors='coerce')\n",
        "data['date'] = data['date'].fillna(data['date'].median())  # Impute missing dates\n",
        "\n",
        "# Extract date features\n",
        "data['Day'] = data['date'].dt.day\n",
        "data['Month'] = data['date'].dt.month\n",
        "data['Year'] = data['date'].dt.year\n",
        "data.drop(columns=['date'], inplace=True)\n",
        "\n",
        "# Handle non-time values in 'departure_time' and 'arrival_time'\n",
        "time_mappings = {\n",
        "    \"Evening\": \"18:00\",\n",
        "    \"Morning\": \"08:00\",\n",
        "    \"Night\": \"22:00\",\n",
        "    \"Early_Morning\": \"05:00\"\n",
        "}\n",
        "data['departure_time'] = data['departure_time'].replace(time_mappings)\n",
        "data['arrival_time'] = data['arrival_time'].replace(time_mappings)\n",
        "\n",
        "# Convert time columns to hours\n",
        "data['departure_time_hour'] = pd.to_datetime(data['departure_time'], format='%H:%M', errors='coerce').dt.hour\n",
        "data['arrival_time_hour'] = pd.to_datetime(data['arrival_time'], format='%H:%M', errors='coerce').dt.hour\n",
        "\n",
        "# Drop original time columns\n",
        "data.dropna(subset=['departure_time_hour', 'arrival_time_hour'], inplace=True)\n",
        "data.drop(columns=['departure_time', 'arrival_time'], inplace=True)\n",
        "\n",
        "# One-hot encode categorical features\n",
        "categorical_columns = ['source_city', 'destination_city', 'class', 'airline']\n",
        "data = pd.get_dummies(data, columns=categorical_columns)\n",
        "\n",
        "# Convert all columns that should be numeric\n",
        "for col in data.columns:\n",
        "    data[col] = pd.to_numeric(data[col], errors='coerce')\n",
        "\n",
        "# Feature Scaling\n",
        "scaler = StandardScaler()\n",
        "\n",
        "# Identify numerical columns (excluding target variable 'price')\n",
        "numerical_cols = data.select_dtypes(include=['number']).columns.tolist()\n",
        "numerical_cols.remove('price')\n",
        "\n",
        "# Apply scaling\n",
        "data[numerical_cols] = scaler.fit_transform(data[numerical_cols])\n",
        "\n",
        "# Prepare Data for Training\n",
        "X = data.drop(columns=['price'])\n",
        "y = data['price']\n",
        "\n",
        "# Split Data\n",
        "X_train, X_test, y_train, y_test = train_test_split(X, y, test_size=0.2, random_state=42)\n",
        "\n",
        "# Train Model\n",
        "model = RandomForestRegressor(n_estimators=100, random_state=42)\n",
        "model.fit(X_train, y_train)\n",
        "\n",
        "# Evaluate Model\n",
        "y_pred = model.predict(X_test)\n",
        "mse = mean_squared_error(y_test, y_pred)\n",
        "r2 = r2_score(y_test, y_pred)\n",
        "print(f\"Mean Squared Error: {mse}\")\n",
        "print(f\"R-squared: {r2}\")\n",
        "\n",
        "# Example Prediction\n",
        "new_flight = {\n",
        "    'days_left': 5,\n",
        "    'duration': 2,\n",
        "    'stops': 0,\n",
        "    'departure_time_hour': 18,\n",
        "    'arrival_time_hour': 18,\n",
        "    'Day': 15,\n",
        "    'Month': 7,\n",
        "    'Year': 2024,\n",
        "    'source_city_Delhi': 0,\n",
        "    'source_city_Mumbai': 1,\n",
        "    'source_city_Bangalore': 0,\n",
        "    'source_city_Chennai': 0,\n",
        "    'destination_city_Delhi': 0,\n",
        "    'destination_city_Mumbai': 1,\n",
        "    'destination_city_Bangalore': 0,\n",
        "    'destination_city_Chennai': 0,\n",
        "    'class_Economy': 1,\n",
        "    'class_Business': 0,\n",
        "    'airline_AirIndia': 1,\n",
        "    'airline_Indigo': 0,\n",
        "    'airline_SpiceJet': 0\n",
        "}\n",
        "\n",
        "# Convert to DataFrame\n",
        "new_flight_df = pd.DataFrame([new_flight])\n",
        "new_flight_df = new_flight_df.reindex(columns=X.columns, fill_value=0)\n",
        "\n",
        "# Scale numerical features\n",
        "new_flight_df[numerical_cols] = scaler.transform(new_flight_df[numerical_cols])\n",
        "\n",
        "# Predict Price\n",
        "predicted_price = model.predict(new_flight_df)[0]\n",
        "print(f\"Predicted Price: {predicted_price}\")\n",
        "print(\"Code reached the end.\")\n",
        "print(f\"X_test shape: {X_test.shape}\")\n",
        "print(f\"y_pred: {y_pred}\")\n",
        "print(f\"MSE: {mse}\")\n",
        "print(f\"Predicted price {predicted_price}\")\n"
      ],
      "metadata": {
        "colab": {
          "base_uri": "https://localhost:8080/"
        },
        "id": "5FLc_WtgL4Bs",
        "outputId": "66242daf-25ab-4f9c-8775-ade47d9108ff"
      },
      "execution_count": null,
      "outputs": [
        {
          "output_type": "stream",
          "name": "stdout",
          "text": [
            "Drive already mounted at /content/drive; to attempt to forcibly remount, call drive.mount(\"/content/drive\", force_remount=True).\n"
          ]
        },
        {
          "output_type": "stream",
          "name": "stderr",
          "text": [
            "/usr/local/lib/python3.11/dist-packages/numpy/lib/_nanfunctions_impl.py:1231: RuntimeWarning: Mean of empty slice\n",
            "  return np.nanmean(a, axis, out=out, keepdims=keepdims)\n",
            "/usr/local/lib/python3.11/dist-packages/sklearn/utils/extmath.py:1101: RuntimeWarning: invalid value encountered in divide\n",
            "  updated_mean = (last_sum + new_sum) / updated_sample_count\n",
            "/usr/local/lib/python3.11/dist-packages/sklearn/utils/extmath.py:1106: RuntimeWarning: invalid value encountered in divide\n",
            "  T = new_sum / new_sample_count\n",
            "/usr/local/lib/python3.11/dist-packages/sklearn/utils/extmath.py:1126: RuntimeWarning: invalid value encountered in divide\n",
            "  new_unnormalized_variance -= correction**2 / new_sample_count\n"
          ]
        },
        {
          "output_type": "stream",
          "name": "stdout",
          "text": [
            "Mean Squared Error: 2324333.4713747846\n",
            "R-squared: 0.8372128138435175\n",
            "Predicted Price: 6007.06\n",
            "Code reached the end.\n",
            "X_test shape: (8090, 26)\n",
            "y_pred: [10400.76   3885.63   7790.    ...  7319.07   8003.79   6331.705]\n",
            "MSE: 2324333.4713747846\n",
            "Predicted price 6007.06\n"
          ]
        }
      ]
    },
    {
      "cell_type": "code",
      "source": [
        "new_flight = {\n",
        "    'days_left': 5,\n",
        "    'duration': 2,\n",
        "    'stops': 0,\n",
        "    'departure_time_hour' : 18,\n",
        "    'arrival_time_hour' : 18,\n",
        "    'Day': 15,\n",
        "    'Month': 7,\n",
        "    'Year': 2024,\n",
        "    'source_city_Delhi': 0,\n",
        "    'source_city_Mumbai': 1,\n",
        "    'source_city_Bangalore': 0,\n",
        "    'source_city_Chennai': 0,\n",
        "    'destination_city_Delhi': 0,\n",
        "    'destination_city_Mumbai': 1,\n",
        "    'destination_city_Bangalore': 0,\n",
        "    'destination_city_Chennai': 0,\n",
        "    'class_Economy': 1,\n",
        "    'class_Business': 0,\n",
        "    'airline_AirIndia' : 1,\n",
        "    'airline_Indigo' : 0,\n",
        "    'airline_SpiceJet' : 0\n",
        "}"
      ],
      "metadata": {
        "id": "aaRwRVuUQU9d"
      },
      "execution_count": null,
      "outputs": []
    },
    {
      "cell_type": "code",
      "source": [
        "new_flight = {\n",
        "    'days_left': 5,\n",
        "    'duration': 2,\n",
        "    'stops': 0,\n",
        "    'departure_time_hour' : 18,\n",
        "    'arrival_time_hour' : 18,\n",
        "    'Day': 15,\n",
        "    'Month': 7,\n",
        "    'Year': 2024,\n",
        "    'source_city_Delhi': 0,\n",
        "    'source_city_Mumbai': 1,\n",
        "    'source_city_Bangalore': 0,\n",
        "    'source_city_Chennai': 0,\n",
        "    'destination_city_Delhi': 0,\n",
        "    'destination_city_Mumbai': 1,\n",
        "    'destination_city_Bangalore': 0,\n",
        "    'destination_city_Chennai': 0,\n",
        "    'class_Economy': 1,\n",
        "    'class_Business': 0,\n",
        "    'airline_AirIndia' : 1,\n",
        "    'airline_Indigo' : 0,\n",
        "    'airline_SpiceJet' : 0\n",
        "}"
      ],
      "metadata": {
        "id": "erA9ru0-RWUU"
      },
      "execution_count": null,
      "outputs": []
    }
  ]
}